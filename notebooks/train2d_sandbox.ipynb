{
 "cells": [
  {
   "cell_type": "code",
   "execution_count": 1,
   "metadata": {},
   "outputs": [],
   "source": [
    "import sys\n",
    "sys.path.append('../')  \n",
    "\n",
    "from data.dummy_datasets import *\n",
    "from utils.operations import E2G\n",
    "from models.gnca import GNCAModel\n",
    "from utils.plots import *\n",
    "from utils.operations import *\n",
    "import torch\n",
    "import torch.nn.functional as F\n",
    "import torch.optim as optim\n",
    "import networkx as nx\n",
    "from tqdm import tqdm\n",
    "import matplotlib.animation as animation\n",
    "import math\n",
    "from utils.sample_pool import SamplePool\n",
    "import os"
   ]
  },
  {
   "cell_type": "code",
   "execution_count": 2,
   "metadata": {},
   "outputs": [],
   "source": [
    "EPOCHS = 15000\n",
    "POOL_SIZE = 1024\n",
    "DEVICE = torch.device(\"cuda\" if torch.cuda.is_available() else \"cpu\")\n",
    "BATCH_SIZE = 8 # number of states batched at each pool sample call\n",
    "USE_PATTERN_POOL =  True\n",
    "FORWARD_ITER_RANGE = (32, 64)\n",
    "EXTRA_CHANNELS = 8\n",
    "LR = 2e-4"
   ]
  },
  {
   "cell_type": "code",
   "execution_count": 3,
   "metadata": {},
   "outputs": [],
   "source": [
    "length = 51\n",
    "num_nodes = length*length\n",
    "\n",
    "coords, E = create_2d_canvas(length, 1)\n",
    "G = E2G(E, num_nodes)\n",
    "adj = nx.adjacency_matrix(G).toarray()\n",
    "\n",
    "seed = np.zeros(num_nodes)\n",
    "\n",
    "if length % 2 == 0:\n",
    "    seed[(num_nodes // 2) + (length // 2) - 1] = 1\n",
    "else:\n",
    "    seed[num_nodes // 2] = 1\n",
    "\n",
    "for i in range(EXTRA_CHANNELS):\n",
    "    seed_ = np.zeros(coords.shape[0])\n",
    "    seed = np.column_stack((seed, seed_))\n",
    "\n",
    "_target = create_image_mask(\"../res/T_large.png\", length)\n",
    "# _target = create_square_mask(length)\n",
    "\n",
    "adj = torch.tensor(adj, dtype=torch.float32).to(DEVICE)\n",
    "seed = torch.tensor(seed, dtype=torch.float32).to(DEVICE)\n",
    "target = torch.tensor(_target, dtype=torch.float32).to(DEVICE)\n",
    "\n",
    "if USE_PATTERN_POOL:\n",
    "    target = target.unsqueeze(0).expand(BATCH_SIZE, -1)"
   ]
  },
  {
   "cell_type": "code",
   "execution_count": 4,
   "metadata": {},
   "outputs": [],
   "source": [
    "gnca = GNCAModel(input_dim=(EXTRA_CHANNELS+1)*2, channel_n=EXTRA_CHANNELS+1, fire_rate=0.5).to(DEVICE)\n",
    "optimizerG = optim.Adam(gnca.parameters(), lr=LR)\n",
    "pool = SamplePool(x=seed.repeat(POOL_SIZE, 1, 1))\n",
    "# torch.nn.utils.clip_grad_norm_(gnca.parameters(), max_norm=1.0) # gradient clipping"
   ]
  },
  {
   "cell_type": "code",
   "execution_count": 5,
   "metadata": {},
   "outputs": [
    {
     "data": {
      "text/plain": [
       "<Axes: title={'center': 'target'}>"
      ]
     },
     "execution_count": 5,
     "metadata": {},
     "output_type": "execute_result"
    },
    {
     "data": {
      "image/png": "[encoded data removed]",
      "text/plain": [
       "<Figure size 640x480 with 1 Axes>"
      ]
     },
     "metadata": {},
     "output_type": "display_data"
    },
    {
     "data": {
      "image/png": "[encoded data removed]",
      "text/plain": [
       "<Figure size 640x480 with 1 Axes>"
      ]
     },
     "metadata": {},
     "output_type": "display_data"
    }
   ],
   "source": [
    "plot_2d_G(G, coords, \"initial\", transparent=True, show_edges=False, node_alpha=seed[:, 0].to('cpu').detach().numpy(), axis_range=(-0.1, 1.1), node_size=100.0)\n",
    "plot_2d_G(G, coords, \"target\", transparent=True, show_edges=False, node_alpha=_target, axis_range=(-0.1, 1.1), node_size=100.0)"
   ]
  },
  {
   "cell_type": "markdown",
   "metadata": {},
   "source": [
    "Training"
   ]
  },
  {
   "cell_type": "code",
   "execution_count": 6,
   "metadata": {},
   "outputs": [],
   "source": [
    "# removing previous log files\n",
    "if os.path.exists('train_log'):\n",
    "    for filename in os.listdir('train_log'):\n",
    "        file_path = os.path.join('train_log', filename)\n",
    "        os.unlink(file_path)  \n",
    "else:\n",
    "    os.mkdir(\"train_log\")"
   ]
  },
  {
   "cell_type": "code",
   "execution_count": 7,
   "metadata": {},
   "outputs": [
    {
     "name": "stderr",
     "output_type": "stream",
     "text": [
      "Training Progress: 100%|██████████| 15000/15000 [2:12:41<00:00,  1.88it/s, Loss=0.0023]   \n"
     ]
    }
   ],
   "source": [
    "torch.cuda.empty_cache()\n",
    "\n",
    "losses = []\n",
    "\n",
    "gnca.train()\n",
    "\n",
    "def loss_f(yhat, y):\n",
    "    return F.mse_loss(yhat, y)\n",
    "\n",
    "def train_step(x):\n",
    "    iter_n = np.random.randint(FORWARD_ITER_RANGE[0], FORWARD_ITER_RANGE[1])\n",
    "    for i in range(iter_n):\n",
    "        x = gnca(x, adj)  \n",
    "    loss = loss_f(x[:, :, 0], target)\n",
    "    optimizerG.zero_grad()\n",
    "    loss.backward()\n",
    "    optimizerG.step()\n",
    "\n",
    "    x = x.detach()\n",
    "    \n",
    "    return x, loss\n",
    "\n",
    "# training loop\n",
    "with tqdm(total=EPOCHS, desc=\"Training Progress\") as pbar:\n",
    "    for epoch in range(EPOCHS):\n",
    "        \n",
    "        if USE_PATTERN_POOL:\n",
    "            batch = pool.sample(BATCH_SIZE)\n",
    "            x0 = batch.x\n",
    "            loss_rank = torch.tensor([loss_f(x0[i, :, 0], target[i, :]).item() for i in range(BATCH_SIZE)])\n",
    "            loss_rank = loss_rank.argsort(descending=True)\n",
    "            x0 = x0[loss_rank]\n",
    "            x0[:1] = seed\n",
    "        else:\n",
    "            x0 = np.repeat(seed[None, ...], BATCH_SIZE, 0)\n",
    "    \n",
    "        x, loss = train_step(x0)\n",
    "        \n",
    "        adj = adj.detach()\n",
    "\n",
    "        if USE_PATTERN_POOL:\n",
    "            batch.x[:] = x\n",
    "            batch.commit()\n",
    "\n",
    "        losses.append(loss.item())\n",
    "\n",
    "        # # gradient clipping\n",
    "        # for param in gnca.parameters():\n",
    "        #     if param.grad is not None:\n",
    "        #         param.grad.data /= (torch.norm(param.grad.data) + 1e-8)\n",
    "\n",
    "        if (epoch % 500 == 0):\n",
    "            generate_pool_image(coords, pool, epoch)\n",
    "\n",
    "        # Update progress bar description\n",
    "        pbar.set_postfix({'Loss': loss.item()})\n",
    "        pbar.update(1)  # Move progress bar forward"
   ]
  },
  {
   "cell_type": "code",
   "execution_count": 1,
   "metadata": {},
   "outputs": [
    {
     "ename": "NameError",
     "evalue": "name 'plot_loss' is not defined",
     "output_type": "error",
     "traceback": [
      "\u001b[0;31m---------------------------------------------------------------------------\u001b[0m",
      "\u001b[0;31mNameError\u001b[0m                                 Traceback (most recent call last)",
      "Cell \u001b[0;32mIn[1], line 1\u001b[0m\n\u001b[0;32m----> 1\u001b[0m \u001b[43mplot_loss\u001b[49m(losses, EPOCHS)\n",
      "\u001b[0;31mNameError\u001b[0m: name 'plot_loss' is not defined"
     ]
    }
   ],
   "source": [
    "plot_loss(losses, EPOCHS)"
   ]
  },
  {
   "cell_type": "code",
   "execution_count": 9,
   "metadata": {},
   "outputs": [
    {
     "ename": "TypeError",
     "evalue": "plot_2d_G() got an unexpected keyword argument 'fixed_range'",
     "output_type": "error",
     "traceback": [
      "\u001b[0;31m---------------------------------------------------------------------------\u001b[0m",
      "\u001b[0;31mTypeError\u001b[0m                                 Traceback (most recent call last)",
      "Cell \u001b[0;32mIn[9], line 21\u001b[0m\n\u001b[1;32m     18\u001b[0m     seed \u001b[38;5;241m=\u001b[39m gnca(seed, adj)\n\u001b[1;32m     19\u001b[0m     alphas\u001b[38;5;241m.\u001b[39mappend(seed[\u001b[38;5;241m0\u001b[39m, :, \u001b[38;5;241m0\u001b[39m]\u001b[38;5;241m.\u001b[39mcpu()\u001b[38;5;241m.\u001b[39mdetach()\u001b[38;5;241m.\u001b[39mnumpy())\n\u001b[0;32m---> 21\u001b[0m \u001b[43mplot_2d_G\u001b[49m\u001b[43m(\u001b[49m\u001b[43mG\u001b[49m\u001b[43m,\u001b[49m\u001b[43m \u001b[49m\u001b[43mcoords\u001b[49m\u001b[43m,\u001b[49m\u001b[43m \u001b[49m\u001b[38;5;124;43m\"\u001b[39;49m\u001b[38;5;124;43mlast\u001b[39;49m\u001b[38;5;124;43m\"\u001b[39;49m\u001b[43m,\u001b[49m\u001b[43m \u001b[49m\u001b[43mtransparent\u001b[49m\u001b[38;5;241;43m=\u001b[39;49m\u001b[38;5;28;43;01mTrue\u001b[39;49;00m\u001b[43m,\u001b[49m\u001b[43m \u001b[49m\u001b[43mshow_edges\u001b[49m\u001b[38;5;241;43m=\u001b[39;49m\u001b[38;5;28;43;01mFalse\u001b[39;49;00m\u001b[43m,\u001b[49m\u001b[43m \u001b[49m\u001b[43mnode_alpha\u001b[49m\u001b[38;5;241;43m=\u001b[39;49m\u001b[43malphas\u001b[49m\u001b[43m[\u001b[49m\u001b[38;5;241;43m-\u001b[39;49m\u001b[38;5;241;43m1\u001b[39;49m\u001b[43m]\u001b[49m\u001b[43m,\u001b[49m\u001b[43m \u001b[49m\u001b[43mfixed_range\u001b[49m\u001b[38;5;241;43m=\u001b[39;49m\u001b[38;5;28;43;01mTrue\u001b[39;49;00m\u001b[43m,\u001b[49m\u001b[43m \u001b[49m\u001b[43maxis_range\u001b[49m\u001b[38;5;241;43m=\u001b[39;49m\u001b[43m(\u001b[49m\u001b[38;5;241;43m-\u001b[39;49m\u001b[38;5;241;43m0.1\u001b[39;49m\u001b[43m,\u001b[49m\u001b[43m \u001b[49m\u001b[38;5;241;43m1.1\u001b[39;49m\u001b[43m)\u001b[49m\u001b[43m)\u001b[49m\n",
      "\u001b[0;31mTypeError\u001b[0m: plot_2d_G() got an unexpected keyword argument 'fixed_range'"
     ]
    }
   ],
   "source": [
    "alphas = []\n",
    "\n",
    "seed = np.zeros(coords.shape[0])\n",
    "seed[coords.shape[0] // 2] = 1\n",
    "\n",
    "for i in range(EXTRA_CHANNELS):\n",
    "    seed_ = np.zeros(coords.shape[0])\n",
    "    seed = np.column_stack((seed, seed_))\n",
    "\n",
    "seed = torch.tensor(seed, dtype=torch.float32).to(DEVICE)\n",
    "seed = seed.unsqueeze(0)\n",
    "\n",
    "gnca.zero_grad()\n",
    "\n",
    "alphas.append(seed[0, :, 0].cpu().detach().numpy())\n",
    "\n",
    "for i in range(1000):\n",
    "    seed = gnca(seed, adj)\n",
    "    alphas.append(seed[0, :, 0].cpu().detach().numpy())\n",
    "\n",
    "plot_2d_G(G, coords, \"last\", transparent=True, show_edges=False, node_alpha=alphas[-1], axis_range=(-0.1, 1.1))\n",
    "    "
   ]
  },
  {
   "cell_type": "code",
   "execution_count": null,
   "metadata": {},
   "outputs": [],
   "source": [
    "# fig = plt.figure()\n",
    "# fig.tight_layout()\n",
    "# ax = fig.add_subplot(111, projection='3d')\n",
    "\n",
    "# # update function for the animation\n",
    "# def update(i):\n",
    "#     ax.clear()\n",
    "#     if np.any(alphas[i] > 0):\n",
    "#         plot_3d_G(G, coords, \"life\", transparent=True, show_edges=False, angle=30, node_alpha=alphas[i], ax=ax, fixed_range=True, axis_range=1)\n",
    "#         ax.set_title(f\"Epoch: {i * 1}\")\n",
    "#         return ax\n",
    "#     else:\n",
    "#         ani.event_source.stop()\n",
    "\n",
    "# ani = animation.FuncAnimation(fig, update, frames=len(alphas), interval=100, repeat=False)\n",
    "\n",
    "# ani.save('life.gif', dpi=300, writer=animation.PillowWriter(fps=20))"
   ]
  }
 ],
 "metadata": {
  "kernelspec": {
   "display_name": "Python 3",
   "language": "python",
   "name": "python3"
  },
  "language_info": {
   "codemirror_mode": {
    "name": "ipython",
    "version": 3
   },
   "file_extension": ".py",
   "mimetype": "text/x-python",
   "name": "python",
   "nbconvert_exporter": "python",
   "pygments_lexer": "ipython3",
   "version": "3.12.5"
  }
 },
 "nbformat": 4,
 "nbformat_minor": 2
}
